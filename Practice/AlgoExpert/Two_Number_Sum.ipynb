{
 "cells": [
  {
   "cell_type": "markdown",
   "id": "e9fc66fe",
   "metadata": {},
   "source": [
    "https://www.algoexpert.io/questions/Two%20Number%20Sum"
   ]
  },
  {
   "cell_type": "code",
   "execution_count": 40,
   "id": "de8528b4",
   "metadata": {},
   "outputs": [],
   "source": [
    "array = [3, 5, -4, 8, 11, 1, -1, 6]\n",
    "targetSum = 10"
   ]
  },
  {
   "cell_type": "code",
   "execution_count": 6,
   "id": "db18371a",
   "metadata": {},
   "outputs": [
    {
     "name": "stdout",
     "output_type": "stream",
     "text": [
      "10\n",
      "[11, -1]\n"
     ]
    }
   ],
   "source": [
    "# O(n^2)\n",
    "# 全ての組み合わせを試していく方法\n",
    "\n",
    "def twoNumberSum(array, targetSum):\n",
    "    for i in range(len(array)):\n",
    "        for j in range(i+1, len(array)):\n",
    "            if targetSum - (array[i] + array[j]) == 0:\n",
    "                print([array[i], array[j]])\n",
    "                return\n",
    "\n",
    "if __name__ == \"__main__\":\n",
    "    twoNumberSum(array, targetSum)"
   ]
  },
  {
   "cell_type": "code",
   "execution_count": 27,
   "id": "69a9036e",
   "metadata": {},
   "outputs": [
    {
     "name": "stdout",
     "output_type": "stream",
     "text": [
      "[11, -1]\n"
     ]
    }
   ],
   "source": [
    "# X + Y = targetSum\n",
    "# このYを見つけていく\n",
    "# O(N^2)\n",
    "\n",
    "def twoNumberSum(array, targetSum):\n",
    "    for i in range(len(array)):\n",
    "        Y = targetSum - array[i]\n",
    "        target = array[i+1:]\n",
    "        if Y in target:\n",
    "            return [array[i], Y]\n",
    "    return []\n",
    "\n",
    "if __name__ == \"__main__\":\n",
    "    print(twoNumberSum(array, targetSum))"
   ]
  },
  {
   "cell_type": "code",
   "execution_count": 48,
   "id": "74f86a6a",
   "metadata": {},
   "outputs": [
    {
     "name": "stdout",
     "output_type": "stream",
     "text": [
      "[11, -1]\n"
     ]
    }
   ],
   "source": [
    "# Hash Table(python では Dict)の利用\n",
    "\n",
    "def twoNumberSum(array, targetSum):\n",
    "    # Hash Tableを作成\n",
    "    target = {}\n",
    "    for i in range(len(array)):\n",
    "        if array[i] not in target:\n",
    "            target[array[i]] = 1\n",
    "        else:\n",
    "            target[array[i]] += 1\n",
    "    \n",
    "    for X in array:\n",
    "        Y = targetSum - X\n",
    "        if Y == X:\n",
    "            if Y in target and target[Y] > 1:\n",
    "                return [X, Y]\n",
    "            continue\n",
    "        else:\n",
    "            if (targetSum - X) in target:\n",
    "                return [X, targetSum - X]\n",
    "    return []\n",
    "        \n",
    "\n",
    "if __name__ == \"__main__\":\n",
    "    print(twoNumberSum(array, targetSum))"
   ]
  },
  {
   "cell_type": "code",
   "execution_count": null,
   "id": "f31af47a",
   "metadata": {},
   "outputs": [],
   "source": []
  }
 ],
 "metadata": {
  "kernelspec": {
   "display_name": "Python 3",
   "language": "python",
   "name": "python3"
  },
  "language_info": {
   "codemirror_mode": {
    "name": "ipython",
    "version": 3
   },
   "file_extension": ".py",
   "mimetype": "text/x-python",
   "name": "python",
   "nbconvert_exporter": "python",
   "pygments_lexer": "ipython3",
   "version": "3.9.5"
  }
 },
 "nbformat": 4,
 "nbformat_minor": 5
}
