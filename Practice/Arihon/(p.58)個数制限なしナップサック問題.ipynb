{
 "cells": [
  {
   "cell_type": "markdown",
   "metadata": {},
   "source": [
    "Input:  \n",
    "n = 3  \n",
    "(w, v) = {(3, 4), (4, 5), (2, 3)}  \n",
    "W = 7  "
   ]
  },
  {
   "cell_type": "code",
   "execution_count": 29,
   "metadata": {
    "collapsed": true
   },
   "outputs": [],
   "source": [
    "n = 3\n",
    "items = [[3, 4], [4, 5], [2, 3]]\n",
    "w = 7"
   ]
  },
  {
   "cell_type": "markdown",
   "metadata": {},
   "source": [
    "```\n",
    "dp[i][j] = i番目までの品物から、重さの総和 j 以下になるように選んだ時の w の最大値\n",
    "```"
   ]
  },
  {
   "cell_type": "code",
   "execution_count": 23,
   "metadata": {},
   "outputs": [
    {
     "name": "stdout",
     "output_type": "stream",
     "text": [
      "[[0, 0, 0, 0, 0, 0, 0, 0], [0, 0, 0, 4, 4, 4, 8, 8], [0, 0, 0, 4, 5, 5, 8, 9], [0, 0, 3, 4, 6, 7, 9, 10]]\n",
      "ans :  10\n"
     ]
    }
   ],
   "source": [
    "# O(nW^2)\n",
    "\n",
    "dp = [[0 for j in range(w + 1)] for i in range(n + 1)]\n",
    "\n",
    "for i in range(n):\n",
    "    for j in range(w+1):\n",
    "        k = 0\n",
    "        while k * items[i][0] <= j:\n",
    "            dp[i + 1][j] = max(dp[i + 1][j], dp[i][j - k * items[i][0]] + k * items[i][1])\n",
    "            k += 1\n",
    "print(dp)\n",
    "print('ans : ', dp[n][w])"
   ]
  },
  {
   "cell_type": "code",
   "execution_count": 25,
   "metadata": {},
   "outputs": [
    {
     "name": "stdout",
     "output_type": "stream",
     "text": [
      "[[0, 0, 0, 0, 0, 0, 0, 0], [0, 0, 0, 4, 4, 4, 8, 8], [0, 0, 0, 4, 5, 5, 8, 9], [0, 0, 3, 4, 6, 7, 9, 10]]\n",
      "ans :  10\n"
     ]
    }
   ],
   "source": [
    "# O(nW)\n",
    "dp = [[0 for j in range(w + 1)] for i in range(n + 1)]\n",
    "\n",
    "for i in range(n):\n",
    "    for j in range(w+1):\n",
    "        if j < items[i][0]:\n",
    "            dp[i + 1][j] = dp[i][j]\n",
    "        else:\n",
    "            dp[i + 1][j] = max(dp[i][j], dp[i + 1][j - items[i][0]] + items[i][1])\n",
    "print(dp)\n",
    "print('ans : ', dp[n][w])"
   ]
  },
  {
   "cell_type": "code",
   "execution_count": 35,
   "metadata": {},
   "outputs": [
    {
     "name": "stdout",
     "output_type": "stream",
     "text": [
      "10\n"
     ]
    }
   ],
   "source": [
    "dp  = [0] * (w + 1)\n",
    "\n",
    "for i in range(n):\n",
    "    for j in range(items[i][0], w+1): # items[i][0]から始めることがだいじ\n",
    "        dp[j] = max(dp[j], dp[j - items[i][0]] + items[i][1])\n",
    "print('ans : ', dp[-1])\n",
    "\n",
    "        "
   ]
  },
  {
   "cell_type": "code",
   "execution_count": null,
   "metadata": {
    "collapsed": true
   },
   "outputs": [],
   "source": []
  }
 ],
 "metadata": {
  "kernelspec": {
   "display_name": "Python 3",
   "language": "python",
   "name": "python3"
  },
  "language_info": {
   "codemirror_mode": {
    "name": "ipython",
    "version": 3
   },
   "file_extension": ".py",
   "mimetype": "text/x-python",
   "name": "python",
   "nbconvert_exporter": "python",
   "pygments_lexer": "ipython3",
   "version": "3.9.5"
  }
 },
 "nbformat": 4,
 "nbformat_minor": 2
}
