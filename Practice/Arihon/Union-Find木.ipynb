{
 "cells": [
  {
   "cell_type": "code",
   "execution_count": null,
   "id": "4c2a1f1b",
   "metadata": {},
   "outputs": [],
   "source": [
    "class UnionFindTree:\n",
    "    def __init__(self):\n",
    "        self.par = []\n",
    "    \n",
    "    def makeSet(self,x):\n",
    "        self.par[x] = x\n",
    "    \n",
    "    def findRoot(self, x):\n",
    "        if x == self.par[x]:\n",
    "            return x\n",
    "        return findRoot(self.par[x])\n",
    "    \n",
    "    def unite(self, x, y):\n",
    "        x = findRoot(x)\n",
    "        y = findRoot(y)\n",
    "        if x == y:\n",
    "            self.par[x] = y"
   ]
  }
 ],
 "metadata": {
  "kernelspec": {
   "display_name": "Python 3",
   "language": "python",
   "name": "python3"
  },
  "language_info": {
   "codemirror_mode": {
    "name": "ipython",
    "version": 3
   },
   "file_extension": ".py",
   "mimetype": "text/x-python",
   "name": "python",
   "nbconvert_exporter": "python",
   "pygments_lexer": "ipython3",
   "version": "3.9.5"
  }
 },
 "nbformat": 4,
 "nbformat_minor": 5
}
