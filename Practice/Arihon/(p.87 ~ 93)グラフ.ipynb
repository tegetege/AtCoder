{
 "cells": [
  {
   "cell_type": "markdown",
   "id": "73ec4320",
   "metadata": {},
   "source": [
    "参考:\n",
    "[【Python】隣接行列・隣接リストの作り方と相互変換【グラフ理論】](https://qiita.com/ell/items/2a327fe021fb7dafe07a)"
   ]
  },
  {
   "cell_type": "code",
   "execution_count": 7,
   "id": "9aa0acf3",
   "metadata": {},
   "outputs": [],
   "source": [
    "input0 = '5 8'\n",
    "input1 = ['1 2', '1 3', '1 5', '2 3', '2 4', '3 4', '3 5', '4 5']"
   ]
  },
  {
   "cell_type": "markdown",
   "id": "4fe28d11",
   "metadata": {},
   "source": [
    "### 隣接行列表現\n",
    "- 常にO(|V|^2)のメモリを確実に消費する(|V|: 頂点の数)\n",
    "- 行列で表現する分、グラフの接続がない部分はメモリの無駄な領域(0で表す部分)を作ってしまう\n",
    "- 二頂点間に辺があるかの判定は定数時間O(n^2)である"
   ]
  },
  {
   "cell_type": "code",
   "execution_count": 12,
   "id": "ee56e019",
   "metadata": {},
   "outputs": [
    {
     "ename": "TypeError",
     "evalue": "'module' object is not callable",
     "output_type": "error",
     "traceback": [
      "\u001b[0;31m---------------------------------------------------------------------------\u001b[0m",
      "\u001b[0;31mTypeError\u001b[0m                                 Traceback (most recent call last)",
      "\u001b[0;32m/var/folders/69/slyx1qtn5356g2qkhmhkddwm0000gn/T/ipykernel_6111/2420466560.py\u001b[0m in \u001b[0;36m<module>\u001b[0;34m\u001b[0m\n\u001b[1;32m      6\u001b[0m     \u001b[0mgraph\u001b[0m\u001b[0;34m[\u001b[0m\u001b[0ma\u001b[0m\u001b[0;34m-\u001b[0m\u001b[0;36m1\u001b[0m\u001b[0;34m]\u001b[0m\u001b[0;34m[\u001b[0m\u001b[0mb\u001b[0m\u001b[0;34m-\u001b[0m\u001b[0;36m1\u001b[0m\u001b[0;34m]\u001b[0m \u001b[0;34m=\u001b[0m \u001b[0;36m1\u001b[0m\u001b[0;34m\u001b[0m\u001b[0;34m\u001b[0m\u001b[0m\n\u001b[1;32m      7\u001b[0m     \u001b[0mgraph\u001b[0m\u001b[0;34m[\u001b[0m\u001b[0mb\u001b[0m\u001b[0;34m-\u001b[0m\u001b[0;36m1\u001b[0m\u001b[0;34m]\u001b[0m\u001b[0;34m[\u001b[0m\u001b[0ma\u001b[0m\u001b[0;34m-\u001b[0m\u001b[0;36m1\u001b[0m\u001b[0;34m]\u001b[0m \u001b[0;34m=\u001b[0m \u001b[0;36m1\u001b[0m  \u001b[0;31m# 有向グラフなら消す\u001b[0m\u001b[0;34m\u001b[0m\u001b[0;34m\u001b[0m\u001b[0m\n\u001b[0;32m----> 8\u001b[0;31m \u001b[0mpprint\u001b[0m\u001b[0;34m(\u001b[0m\u001b[0mgraph\u001b[0m\u001b[0;34m)\u001b[0m  \u001b[0;31m# [[0, 1, 1, 0, 1], ..., [1, 0, 1, 1, 0]]\u001b[0m\u001b[0;34m\u001b[0m\u001b[0;34m\u001b[0m\u001b[0m\n\u001b[0m",
      "\u001b[0;31mTypeError\u001b[0m: 'module' object is not callable"
     ]
    }
   ],
   "source": [
    "n, m = map(int, input0.split())\n",
    "graph = [[0]*n for _ in range(n)]\n",
    "for _ in range(m):\n",
    "    a, b = map(int, input1[_].split())\n",
    "    graph[a-1][b-1] = 1\n",
    "    graph[b-1][a-1] = 1  # 有向グラフなら消す\n",
    "print(graph)  # [[0, 1, 1, 0, 1], ..., [1, 0, 1, 1, 0]]"
   ]
  },
  {
   "cell_type": "markdown",
   "id": "197a8fe6",
   "metadata": {},
   "source": [
    "### 隣接リスト表現\n",
    "- 隣接行列の場合のデメリットである、\"メモリの無駄な領域\"はなくなる\n",
    "- メモリの消費量はO(|V|+|E|)だけ (|V|: 頂点の数 |E|: 辺の数)"
   ]
  },
  {
   "cell_type": "code",
   "execution_count": 10,
   "id": "58e3bc79",
   "metadata": {},
   "outputs": [
    {
     "name": "stdout",
     "output_type": "stream",
     "text": [
      "5  :  8\n",
      "[[2, 3, 5], [1, 3, 4], [1, 2, 4, 5], [2, 3, 5], [1, 3, 4]]\n"
     ]
    }
   ],
   "source": [
    "n, m = map(int, input0.split())\n",
    "print(n, ' : ', m)\n",
    "graph = [[] for _ in range(n)]\n",
    "for _ in range(m):\n",
    "    a, b = map(int, input1[_].split())\n",
    "    graph[a-1].append(b)\n",
    "    graph[b-1].append(a)  # 有向グラフなら消す\n",
    "print(graph)  # [[2, 3, 5], ..., [1, 3, 4]]"
   ]
  }
 ],
 "metadata": {
  "kernelspec": {
   "display_name": "Python 3 (ipykernel)",
   "language": "python",
   "name": "python3"
  },
  "language_info": {
   "codemirror_mode": {
    "name": "ipython",
    "version": 3
   },
   "file_extension": ".py",
   "mimetype": "text/x-python",
   "name": "python",
   "nbconvert_exporter": "python",
   "pygments_lexer": "ipython3",
   "version": "3.8.9"
  }
 },
 "nbformat": 4,
 "nbformat_minor": 5
}
