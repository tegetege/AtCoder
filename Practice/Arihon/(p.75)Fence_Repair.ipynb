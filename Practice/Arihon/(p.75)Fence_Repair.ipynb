{
 "cells": [
  {
   "cell_type": "code",
   "execution_count": 1,
   "id": "4bdfd03a",
   "metadata": {},
   "outputs": [],
   "source": [
    "N = 3\n",
    "L = [8, 5, 8]"
   ]
  },
  {
   "cell_type": "code",
   "execution_count": 10,
   "id": "017bc20b",
   "metadata": {},
   "outputs": [
    {
     "name": "stdout",
     "output_type": "stream",
     "text": [
      "34\n"
     ]
    }
   ],
   "source": [
    "import heapq\n",
    "\n",
    "que = []\n",
    "\n",
    "for i in range(len(L)):\n",
    "    heapq.heappush(que, L[i])\n",
    "\n",
    "cost = 0\n",
    "while len(que) > 1:\n",
    "    l1 = heapq.heappop(que)\n",
    "    l2 = heapq.heappop(que)\n",
    "    cost += l1 + l2\n",
    "    heapq.heappush(que, (l1+l2))\n",
    "    \n",
    "print(cost)"
   ]
  },
  {
   "cell_type": "code",
   "execution_count": null,
   "id": "74d99476",
   "metadata": {},
   "outputs": [],
   "source": []
  }
 ],
 "metadata": {
  "kernelspec": {
   "display_name": "Python 3 (ipykernel)",
   "language": "python",
   "name": "python3"
  },
  "language_info": {
   "codemirror_mode": {
    "name": "ipython",
    "version": 3
   },
   "file_extension": ".py",
   "mimetype": "text/x-python",
   "name": "python",
   "nbconvert_exporter": "python",
   "pygments_lexer": "ipython3",
   "version": "3.8.9"
  }
 },
 "nbformat": 4,
 "nbformat_minor": 5
}
