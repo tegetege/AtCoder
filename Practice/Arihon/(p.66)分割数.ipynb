{
 "cells": [
  {
   "cell_type": "markdown",
   "id": "81b63c1e",
   "metadata": {},
   "source": [
    "\n",
    "n個の違いに区別できない品物を、m個以下に分割する方法  \n",
    "-> 「nのm分割」と言う(特に、m=nの時にnの分割数と言う)  \n",
    "\n",
    "漸化式は以下のように定義する  \n",
    "`dp[i][j] := jのi分割の総数`  \n",
    "j を i 個に分割するには、まず k 個取り出して、残りの j-k 個を i-1 個に分割すれば良い  \n",
    "=> この場合、1 + 1 + 2 と 1 + 2 + 1を別物として数えているので、この問題には適さない。  \n",
    "\n",
    "n の m分割を考えます。すべての i で a_i > 0 ならば、 {a_i - 1} は n - m の m分割となる。  \n",
    "また、a_i = 0 となる i が存在する場合、これはn の m -1 分割となる。  \n",
    "したがって、以下のような漸化式になる  \n",
    "`dp[i][j] = dp[i][j-1] + dp[i-1][j]`  \n",
    "計算量: O(nm)"
   ]
  },
  {
   "cell_type": "code",
   "execution_count": 6,
   "id": "f6d3051a",
   "metadata": {},
   "outputs": [],
   "source": [
    "n = 4\n",
    "m = 3\n",
    "M = 10000"
   ]
  },
  {
   "cell_type": "code",
   "execution_count": 11,
   "id": "ec09fec6",
   "metadata": {},
   "outputs": [
    {
     "name": "stdout",
     "output_type": "stream",
     "text": [
      "[[1, 0, 0, 0, 0], [1, 1, 1, 1, 1], [1, 1, 2, 2, 3], [1, 1, 2, 3, 4]]\n",
      "4\n"
     ]
    }
   ],
   "source": [
    "import numpy\n",
    "\n",
    "\n",
    "dp = numpy.full((m+1, n+1), 0).tolist()\n",
    "\n",
    "dp[0][0] = 1\n",
    "for i in range(1, m+1):\n",
    "    for j in range(0, n+1):\n",
    "        if j - i >= 0:\n",
    "            dp[i][j] = (dp[i - 1][j] + dp[i][j - i]) % M\n",
    "        else:\n",
    "            dp[i][j] = dp[i -1][j]\n",
    "            \n",
    "print(dp)\n",
    "print(dp[m][n])"
   ]
  },
  {
   "cell_type": "code",
   "execution_count": null,
   "id": "66d7b902",
   "metadata": {},
   "outputs": [],
   "source": []
  }
 ],
 "metadata": {
  "kernelspec": {
   "display_name": "Python 3",
   "language": "python",
   "name": "python3"
  },
  "language_info": {
   "codemirror_mode": {
    "name": "ipython",
    "version": 3
   },
   "file_extension": ".py",
   "mimetype": "text/x-python",
   "name": "python",
   "nbconvert_exporter": "python",
   "pygments_lexer": "ipython3",
   "version": "3.9.5"
  }
 },
 "nbformat": 4,
 "nbformat_minor": 5
}
