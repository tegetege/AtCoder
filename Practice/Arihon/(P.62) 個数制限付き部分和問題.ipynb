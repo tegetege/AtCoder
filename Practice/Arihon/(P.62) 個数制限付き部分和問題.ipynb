{
 "cells": [
  {
   "cell_type": "code",
   "execution_count": 2,
   "id": "fbd1ef1e",
   "metadata": {},
   "outputs": [],
   "source": [
    "n = 3\n",
    "a = [3, 5, 8]\n",
    "m = [3, 2, 2]\n",
    "K = 17"
   ]
  },
  {
   "cell_type": "code",
   "execution_count": 3,
   "id": "3833e851",
   "metadata": {},
   "outputs": [
    {
     "name": "stdout",
     "output_type": "stream",
     "text": [
      "Yes\n"
     ]
    }
   ],
   "source": [
    "dp = [-1] * (K + 1)\n",
    "dp[0] = 0\n",
    "for i in range(n):\n",
    "    for j in range(K+1):\n",
    "        if (dp[j] >= 0):\n",
    "            dp[j] = m[i]\n",
    "        elif j < a[i] or dp[j - a[i]] <= 0:\n",
    "            dp[j] = -1\n",
    "        else:\n",
    "            dp[j] = dp[j - a[i]] - 1\n",
    "if dp[K] < 0:\n",
    "    print('No')\n",
    "print('Yes')"
   ]
  },
  {
   "cell_type": "code",
   "execution_count": null,
   "id": "23a7981e",
   "metadata": {},
   "outputs": [],
   "source": []
  }
 ],
 "metadata": {
  "kernelspec": {
   "display_name": "Python 3",
   "language": "python",
   "name": "python3"
  },
  "language_info": {
   "codemirror_mode": {
    "name": "ipython",
    "version": 3
   },
   "file_extension": ".py",
   "mimetype": "text/x-python",
   "name": "python",
   "nbconvert_exporter": "python",
   "pygments_lexer": "ipython3",
   "version": "3.9.5"
  }
 },
 "nbformat": 4,
 "nbformat_minor": 5
}
