{
 "cells": [
  {
   "cell_type": "code",
   "execution_count": 6,
   "id": "9cda67f3",
   "metadata": {},
   "outputs": [],
   "source": [
    "n = 3\n",
    "m = 3\n",
    "a = [1, 2, 3]\n",
    "M = 10000"
   ]
  },
  {
   "cell_type": "code",
   "execution_count": 8,
   "id": "e4df3037",
   "metadata": {},
   "outputs": [
    {
     "name": "stdout",
     "output_type": "stream",
     "text": [
      "[[1, 0, 0, 0], [1, 1, 0, 0], [1, 2, 2, 1], [0, 2, 4, 5]]\n",
      "5\n"
     ]
    }
   ],
   "source": [
    "dp = [[0] * (m + 1) for i in range(n + 1)]\n",
    "\n",
    "for i in range(n):\n",
    "    dp[i][0] = 1\n",
    "\n",
    "for i in range(n):\n",
    "    for j in range(1, m+1):\n",
    "        if ( j - 1 - a[i]) >= 0:\n",
    "            dp[i + 1][j] = (dp[i + 1][j - 1] + dp[i][j] - dp[i][j - 1 - a[i]] + M) % M\n",
    "        else:\n",
    "            dp[i + 1][j] = (dp[i + 1][j - 1] + dp[i][j]) % M\n",
    "\n",
    "print(dp)\n",
    "print(dp[n][m])"
   ]
  },
  {
   "cell_type": "code",
   "execution_count": 12,
   "id": "c4bcc1ec",
   "metadata": {},
   "outputs": [
    {
     "name": "stdout",
     "output_type": "stream",
     "text": [
      "0 番目の要素までを使った場合\n",
      "[[1, 0, 0, 0], [1, 1, 0, 0], [1, 0, 0, 0], [1, 0, 0, 0]]\n",
      "=====================\n",
      "1 番目の要素までを使った場合\n",
      "[[1, 0, 0, 0], [1, 1, 0, 0], [1, 2, 2, 1], [1, 0, 0, 0]]\n",
      "=====================\n",
      "2 番目の要素までを使った場合\n",
      "[[1, 0, 0, 0], [1, 1, 0, 0], [1, 2, 2, 1], [1, 3, 5, 6]]\n",
      "=====================\n"
     ]
    },
    {
     "data": {
      "text/plain": [
       "(6, [[1, 0, 0, 0], [1, 1, 0, 0], [1, 2, 2, 1], [1, 3, 5, 6]])"
      ]
     },
     "execution_count": 12,
     "metadata": {},
     "output_type": "execute_result"
    }
   ],
   "source": [
    "# 記号としての数字のリスト(a)があります。このn種類の記号からｍ個選ぶ方法は何通りありますか？最後にMで割ってね。\n",
    "\n",
    "# n : 選べる記号(数字)\n",
    "# m : 選べる個数\n",
    "# a : 記号(数字)のリスト\n",
    "# M : 割る数\n",
    "\n",
    "\n",
    "def dp_calcuration(n, m, a, M):\n",
    "    dp = [[0 for i in range(n + 1)] for j in range(m + 1)]\n",
    "    \n",
    "    # n=3, m=3 の時\n",
    "    # dp = [[0, 0, 0, 0], [0, 0, 0, 0], [0, 0, 0, 0], [0, 0, 0, 0]]\n",
    "    \n",
    "    # 選べる個数が０個の時：[1, 0, 0, 0] \n",
    "    # 選べる個数が１個の時：[0, 3, 0, 0] (1, 2, 3 の3通り)\n",
    "    # 選べる個数が２個の時：[0, 0, 5, 0] \n",
    "    # 選べる個数が３個の時：[0, 0, 0, 6] \n",
    "    \n",
    "    # 選べる個数が０個の時(１つも選べない場合)\n",
    "    for i in range(n + 1):\n",
    "        dp[i][0] = 1\n",
    "    \n",
    "    # i(0～) : 記号のリストの値を示すインデックス\n",
    "    # j(1～) : 選べる個数の数\n",
    "    for i in range(n):\n",
    "        print(i , '番目の要素までを使った場合')\n",
    "        for j in range(1, m + 1, 1):\n",
    "            if j - 1 - a[i] >= 0:\n",
    "#                 print(\"if : \", j, \"-\", 1,\"-\", a[1], \">= 0\", \"　　代入idx :\", i+1, j, \"　　値 :\", dp[i + 1][j - 1], \"+\", dp[i][j], \"-\", dp[i][j - 1 - a[i]], M)\n",
    "               # 組み合わせ総数の格納場所 = (一つ前の組み合わせ総数 + 一つ前の組み合わせ総数 - マイナスになるので実質プラス + 0を考慮して足すための割る数) % M\n",
    "                dp[i + 1][j] = (dp[i + 1][j - 1] + dp[i][j] - dp[i][j - 1 - a[i]] + M) % M\n",
    "            else:\n",
    "#                 print(\"if : \", j, \"-\", 1,\"-\", a[1], \">= 0\", \"　　代入idx :\", i+1, j, \"　　値 :\", dp[i + 1][j - 1], \"+\", dp[i][j], M)\n",
    "                # 選んだ数が違反している場合 \n",
    "                dp[i + 1][j] = (dp[i + 1][j - 1] + dp[i][j]) % M\n",
    "        print(dp)\n",
    "        print('=====================')\n",
    "    return dp[n][m], dp\n",
    "dp_calcuration(3, 3, [1, 2, 3], 10000)"
   ]
  },
  {
   "cell_type": "code",
   "execution_count": null,
   "id": "6906cbaa",
   "metadata": {},
   "outputs": [],
   "source": []
  }
 ],
 "metadata": {
  "kernelspec": {
   "display_name": "Python 3",
   "language": "python",
   "name": "python3"
  },
  "language_info": {
   "codemirror_mode": {
    "name": "ipython",
    "version": 3
   },
   "file_extension": ".py",
   "mimetype": "text/x-python",
   "name": "python",
   "nbconvert_exporter": "python",
   "pygments_lexer": "ipython3",
   "version": "3.9.5"
  }
 },
 "nbformat": 4,
 "nbformat_minor": 5
}
