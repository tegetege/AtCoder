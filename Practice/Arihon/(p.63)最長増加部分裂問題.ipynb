{
 "cells": [
  {
   "cell_type": "code",
   "execution_count": 1,
   "id": "e413802c",
   "metadata": {},
   "outputs": [],
   "source": [
    "n = 5\n",
    "a = [4, 2, 3, 1, 5]"
   ]
  },
  {
   "cell_type": "code",
   "execution_count": 2,
   "id": "668ad726",
   "metadata": {},
   "outputs": [
    {
     "name": "stdout",
     "output_type": "stream",
     "text": [
      "3\n"
     ]
    }
   ],
   "source": [
    "# dp[i] = max(1, dp[j] + 1 | j < i かつ a_j < a_i)\n",
    "# 最後に a_j で終わる増加部分列の後ろに a_i を付け足す\n",
    "\n",
    "dp = [1] * n\n",
    "res = 0\n",
    "for i in range(n):\n",
    "    for j in range(i):\n",
    "        if a[j] < a[i]:\n",
    "            dp[i] = max(dp[i], dp[j] + 1)\n",
    "    res = max(res, dp[i])\n",
    "\n",
    "print(res)"
   ]
  },
  {
   "cell_type": "code",
   "execution_count": null,
   "id": "85c97316",
   "metadata": {},
   "outputs": [],
   "source": []
  }
 ],
 "metadata": {
  "kernelspec": {
   "display_name": "Python 3",
   "language": "python",
   "name": "python3"
  },
  "language_info": {
   "codemirror_mode": {
    "name": "ipython",
    "version": 3
   },
   "file_extension": ".py",
   "mimetype": "text/x-python",
   "name": "python",
   "nbconvert_exporter": "python",
   "pygments_lexer": "ipython3",
   "version": "3.9.5"
  }
 },
 "nbformat": 4,
 "nbformat_minor": 5
}
