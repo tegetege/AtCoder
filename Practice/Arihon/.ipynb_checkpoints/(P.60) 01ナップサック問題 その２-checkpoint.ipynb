{
 "cells": [
  {
   "cell_type": "markdown",
   "id": "60543a0d",
   "metadata": {},
   "source": [
    "制約\n",
    "1 <= n <= 100\n",
    "1 <= w_i <= 10^7\n",
    "1 <= v_i <= 100\n",
    "1 <= W <= 10^9\n",
    "\n",
    "解法:\n",
    "この問題はWの制約が最大で10^9と大きいので、\n",
    "DPの考え方としては「価値v_i に対する最小の重さ」を求めることを目指してみる"
   ]
  },
  {
   "cell_type": "code",
   "execution_count": 1,
   "id": "1a53ebf3",
   "metadata": {},
   "outputs": [],
   "source": [
    "n = 4\n",
    "w = [2,1,3,2]\n",
    "v = [3,2,4,2]\n",
    "W = 5"
   ]
  },
  {
   "cell_type": "code",
   "execution_count": 13,
   "id": "6bd0aea2",
   "metadata": {},
   "outputs": [
    {
     "name": "stdout",
     "output_type": "stream",
     "text": [
      "ans :  7\n"
     ]
    }
   ],
   "source": [
    "INF = 10 ** 9 + 1\n",
    "MAX_N = 100 # 制約より\n",
    "MAX_V = 100 # 制約より\n",
    "DP = [[INF for j in range(MAX_N * MAX_V + 1)] for i in range(n + 1)]\n",
    "DP[0][0] = 0 # 初期値\n",
    "\n",
    "# DP[i][j] = アイテムi個まで考えたときの、価値jになりうる最小値の重さ\n",
    "for i in range(n):\n",
    "    for j in range(MAX_N * MAX_V +1):\n",
    "        if (j < v[i]):\n",
    "            DP[i + 1][j] = DP[i][j]\n",
    "        else:\n",
    "            DP[i + 1][j] = min(DP[i][j], DP[i][j - v[i]] + w[i])\n",
    "\n",
    "ans = 0\n",
    "for i in range(MAX_N * MAX_V +1):\n",
    "    if (DP[n][i] <= W):\n",
    "               ans = i\n",
    "print('ans : ' , ans)\n",
    "\n",
    "        "
   ]
  },
  {
   "cell_type": "code",
   "execution_count": null,
   "id": "d1b53a07",
   "metadata": {},
   "outputs": [],
   "source": []
  }
 ],
 "metadata": {
  "kernelspec": {
   "display_name": "Python 3",
   "language": "python",
   "name": "python3"
  },
  "language_info": {
   "codemirror_mode": {
    "name": "ipython",
    "version": 3
   },
   "file_extension": ".py",
   "mimetype": "text/x-python",
   "name": "python",
   "nbconvert_exporter": "python",
   "pygments_lexer": "ipython3",
   "version": "3.9.5"
  }
 },
 "nbformat": 4,
 "nbformat_minor": 5
}
