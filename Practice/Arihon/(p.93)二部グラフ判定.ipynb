{
 "cells": [
  {
   "cell_type": "code",
   "execution_count": 12,
   "id": "9603a226",
   "metadata": {},
   "outputs": [],
   "source": [
    "\n"
   ]
  },
  {
   "cell_type": "code",
   "execution_count": 17,
   "id": "685a4234",
   "metadata": {},
   "outputs": [
    {
     "name": "stdout",
     "output_type": "stream",
     "text": [
      "False\n",
      "False\n"
     ]
    }
   ],
   "source": [
    "def judge(inputs, node):\n",
    "    # ノード数× ノード数の2次元配列を生成する\n",
    "    graph = [[0 for i in range(node)] for i in range(node)]\n",
    "    \n",
    "    for target in inputs:\n",
    "        graph[target[0]-1][target[1]-1] += 1\n",
    "        graph[target[1]-1][target[0]-1] += 1\n",
    "    \n",
    "    for i in range(len(graph)):\n",
    "        cnt = 0\n",
    "        for j in range(len(graph[i])):\n",
    "            cnt +=graph[i][j]\n",
    "        \n",
    "        if cnt % 2 == 0:\n",
    "            return False\n",
    "    print(graph)\n",
    "    return True\n",
    "\n",
    "\n",
    "inputs = [[1,2],[1,3],[2,3]]\n",
    "node = 3\n",
    "# False\n",
    "print(judge(inputs, node))\n",
    "\n",
    "inputs = [[1,2],[1,3],[2,3],[3,4]]\n",
    "node = 4\n",
    "print(judge(inputs, node))"
   ]
  },
  {
   "cell_type": "code",
   "execution_count": null,
   "id": "3fa183fa",
   "metadata": {},
   "outputs": [],
   "source": []
  }
 ],
 "metadata": {
  "kernelspec": {
   "display_name": "Python 3 (ipykernel)",
   "language": "python",
   "name": "python3"
  },
  "language_info": {
   "codemirror_mode": {
    "name": "ipython",
    "version": 3
   },
   "file_extension": ".py",
   "mimetype": "text/x-python",
   "name": "python",
   "nbconvert_exporter": "python",
   "pygments_lexer": "ipython3",
   "version": "3.8.9"
  }
 },
 "nbformat": 4,
 "nbformat_minor": 5
}
