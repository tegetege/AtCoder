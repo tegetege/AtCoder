{
 "cells": [
  {
   "cell_type": "code",
   "execution_count": 3,
   "id": "ffd5b360",
   "metadata": {},
   "outputs": [],
   "source": [
    "N = 100\n",
    "K = 7\n",
    "inputData = [{'type':1, 'x':100,'y':1}, \n",
    "             {'type':2, 'x':1,'y':2}, \n",
    "             {'type':2, 'x':2,'y':3}, \n",
    "             {'type':2, 'x':3,'y':3},\n",
    "             {'type':1, 'x':1,'y':3},\n",
    "             {'type':2, 'x':3,'y':1},\n",
    "             {'type':1, 'x':5,'y':5}]"
   ]
  },
  {
   "cell_type": "code",
   "execution_count": 10,
   "id": "90b672bc",
   "metadata": {},
   "outputs": [],
   "source": [
    "# Union-Find木の実装\n",
    "class UnionFind():\n",
    "    def __init__(self, n):\n",
    "        self.n = n\n",
    "        self.parents = [-1] * n\n",
    "    \n",
    "    # xが属するグループの根を返す\n",
    "    def find(self, x):\n",
    "        if self.parents[x] <  0:\n",
    "            return x\n",
    "        else:\n",
    "            self.parents[x] = self.find(self.parents[x])\n",
    "            return self.parents[x]\n",
    "\n",
    "    # xが属するグループとyが属するグループを併合する\n",
    "    def union(self, x, y):\n",
    "        x = self.find(x)\n",
    "        y = self.find(y)\n",
    "        \n",
    "        # 親が同じだったらすでに同じグループ\n",
    "        if x == y:\n",
    "            return\n",
    "        \n",
    "        # 親情報は、一番若い数に統一\n",
    "        if self.parents[x] > self.parents[y]:\n",
    "            x, y = y, x\n",
    "        \n",
    "        self.parents[x] += self.parents[y]\n",
    "        self.parents[y] = x\n",
    "    \n",
    "    # 同じ親(=同じグループ)かどうかを返す\n",
    "    def same(self, x, y):\n",
    "        return self.find(x) == self.find(y)"
   ]
  },
  {
   "cell_type": "code",
   "execution_count": 22,
   "id": "cf285dbe",
   "metadata": {},
   "outputs": [
    {
     "name": "stdout",
     "output_type": "stream",
     "text": [
      "[-1, -1, -1, -1, -1, -1, -1, -1, -1, -1, -1, -1, -1, -1, -1, -1, -1, -1, -1, -1, -1, -1, -1, -1, -1, -1, -1, -1, -1, -1, -1, -1, -1, -1, -1, -1, -1, -1, -1, -1, -1, -1, -1, -1, -1, -1, -1, -1, -1, -1, -1, -1, -1, -1, -1, -1, -1, -1, -1, -1, -1, -1, -1, -1, -1, -1, -1, -1, -1, -1, -1, -1, -1, -1, -1, -1, -1, -1, -1, -1, -1, -1, -1, -1, -1, -1, -1, -1, -1, -1, -1, -1, -1, -1, -1, -1, -1, -1, -1, -1, -1]\n"
     ]
    },
    {
     "data": {
      "text/plain": [
       "1"
      ]
     },
     "execution_count": 22,
     "metadata": {},
     "output_type": "execute_result"
    }
   ],
   "source": [
    "# animalGr[A|B|C]の方式だと、GrA ~B ~Cの間のつなぎ込み情報が持てないので、不可能\n",
    "animalGrA = UnionFind(N + 1)\n",
    "animalGrB = UnionFind(N + 1)\n",
    "animalGrC = UnionFind(N + 1)\n",
    "print(animalGr1.parents)\n",
    "animalGrA.union(1,2)\n",
    "animalGrA.find(2)"
   ]
  },
  {
   "cell_type": "code",
   "execution_count": 24,
   "id": "d1cd4a19",
   "metadata": {},
   "outputs": [
    {
     "name": "stdout",
     "output_type": "stream",
     "text": [
      "矛盾している数 :  3\n"
     ]
    }
   ],
   "source": [
    "# A: animalGr[0: N] \n",
    "# B: animalGr[N+1: 2*N]\n",
    "# C: animalGr[2*N + 1: 3*N]\n",
    "\n",
    "animalGr = UnionFind((N + 1) * 3)\n",
    "\n",
    "# inconsistentCount\n",
    "inconCnt = 0\n",
    "\n",
    "for target in inputData:\n",
    "    x = target['x']\n",
    "    y = target['y']\n",
    "    \n",
    "    # 同じ種類の関係\n",
    "    if target['type'] == 1:\n",
    "        # すでに違うグループに属しているので矛盾\n",
    "        if animalGr.same(x, y+N) or animalGr.same(x, y + 2 * N):\n",
    "            inconCnt += 1\n",
    "        else:\n",
    "            animalGr.union(x, y)\n",
    "            animalGr.union(x + N, y + N)\n",
    "            animalGr.union(x + 2 * N, y + 2 * N)\n",
    "    \n",
    "    # 弱肉強食の関係        \n",
    "    if target['type'] == 2:\n",
    "        # 同じグループに所属するので矛盾\n",
    "        if animalGr.same(x, y) or animalGr.same(x + N, y + N):\n",
    "            inconCnt += 1\n",
    "        else:\n",
    "            animalGr.union(x, y + N)\n",
    "            animalGr.union(x + N, y + 2 * N)\n",
    "            animalGr.union(x + 2 * N, y)\n",
    "\n",
    "print('矛盾している数 : ', inconCnt)"
   ]
  },
  {
   "cell_type": "code",
   "execution_count": null,
   "id": "3718f8a9",
   "metadata": {},
   "outputs": [],
   "source": []
  }
 ],
 "metadata": {
  "kernelspec": {
   "display_name": "Python 3 (ipykernel)",
   "language": "python",
   "name": "python3"
  },
  "language_info": {
   "codemirror_mode": {
    "name": "ipython",
    "version": 3
   },
   "file_extension": ".py",
   "mimetype": "text/x-python",
   "name": "python",
   "nbconvert_exporter": "python",
   "pygments_lexer": "ipython3",
   "version": "3.8.9"
  }
 },
 "nbformat": 4,
 "nbformat_minor": 5
}
